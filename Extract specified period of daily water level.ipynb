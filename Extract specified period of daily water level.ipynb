{
 "cells": [
  {
   "cell_type": "markdown",
   "metadata": {},
   "source": [
    "####  Import necessary libraries"
   ]
  },
  {
   "cell_type": "code",
   "execution_count": 1,
   "metadata": {},
   "outputs": [],
   "source": [
    "import os\n",
    "import pandas as pd\n",
    "import datetime\n",
    "import re"
   ]
  },
  {
   "cell_type": "markdown",
   "metadata": {},
   "source": [
    "#### file path for extracted csv file of hwl"
   ]
  },
  {
   "cell_type": "code",
   "execution_count": 2,
   "metadata": {},
   "outputs": [],
   "source": [
    "getfilepath='C:\\\\Data'\n",
    "os.chdir(getfilepath)\n",
    "getWLcsv='hWL[EDEN_6][2006-07-10 to 2019-02-07]233954.253826.csv'"
   ]
  },
  {
   "cell_type": "markdown",
   "metadata": {},
   "source": [
    "#### Specified hour in a day [spf_hrs]"
   ]
  },
  {
   "cell_type": "code",
   "execution_count": 3,
   "metadata": {},
   "outputs": [],
   "source": [
    "getTime='08:00:00'\n",
    "firstDate='2016-01-01'\n",
    "lastDate='2018-01-08'"
   ]
  },
  {
   "cell_type": "markdown",
   "metadata": {},
   "source": [
    "#### regular expression to extract station name"
   ]
  },
  {
   "cell_type": "code",
   "execution_count": 4,
   "metadata": {},
   "outputs": [],
   "source": [
    "station=re.findall('^hWL\\[(.*?)]',getWLcsv)\n",
    "station=station[0]\n",
    "dataset=re.findall('\\]\\[(.*?)]',getWLcsv)"
   ]
  },
  {
   "cell_type": "code",
   "execution_count": 5,
   "metadata": {},
   "outputs": [
    {
     "name": "stdout",
     "output_type": "stream",
     "text": [
      "Overall length of data for Station EDEN_6 is:\n",
      "2006-07-10 to 2019-02-07\n",
      "Data starts from Time to 2019-02-07\n"
     ]
    }
   ],
   "source": [
    "print('Overall length of data for Station '+station+' is:\\n'+dataset[0])\n",
    "df_hWL=pd.read_csv(getWLcsv,sep=',', names=['Time','DailyWL(ft NAVD)','DailyWL(m NAVD)'])\n",
    "print('Data starts from '+df_hWL.iloc[0]['Time'][:10]+\n",
    "      ' to '+df_hWL.iloc[-1]['Time'][:10])"
   ]
  },
  {
   "cell_type": "markdown",
   "metadata": {},
   "source": [
    "#### to pull values as per userdefined timeframe (i.e. DailyWL at specified time)"
   ]
  },
  {
   "cell_type": "code",
   "execution_count": 6,
   "metadata": {},
   "outputs": [],
   "source": [
    "df_dWL=df_hWL[(df_hWL['Time'].str.contains(getTime))]"
   ]
  },
  {
   "cell_type": "markdown",
   "metadata": {},
   "source": [
    "#### to select rows in a DataFrame between two values"
   ]
  },
  {
   "cell_type": "code",
   "execution_count": 7,
   "metadata": {},
   "outputs": [],
   "source": [
    "df_dWL=df_dWL[(df_dWL['Time']>firstDate)&(df_dWL['Time']<=lastDate)]\n",
    "df_dWL=df_dWL.reset_index(drop = True)"
   ]
  },
  {
   "cell_type": "markdown",
   "metadata": {},
   "source": [
    "#### to save values in new csv file\n",
    "#### Write CSV Daily Water Level [wcsvdWL]"
   ]
  },
  {
   "cell_type": "code",
   "execution_count": 8,
   "metadata": {},
   "outputs": [],
   "source": [
    "now=datetime.datetime.now()\n",
    "timeStamp=str(now)[11:13]+str(now)[14:16]+str(now)[17:19]+str(now)[-7:]\n",
    "setdWLfile=\"dWL[\"+station+\"][\"+firstDate+\" to \"+lastDate+\"]\"+timeStamp+\".csv\"\n",
    "setfilepath='C:\\\\Data'\n",
    "os.chdir(setfilepath)\n",
    "df_dWL.to_csv(setdWLfile,index=False,columns=['Time','DailyWL(ft NAVD)','DailyWL(m NAVD)'])"
   ]
  }
 ],
 "metadata": {
  "kernelspec": {
   "display_name": "Python 3",
   "language": "python",
   "name": "python3"
  },
  "language_info": {
   "codemirror_mode": {
    "name": "ipython",
    "version": 3
   },
   "file_extension": ".py",
   "mimetype": "text/x-python",
   "name": "python",
   "nbconvert_exporter": "python",
   "pygments_lexer": "ipython3",
   "version": "3.6.5"
  }
 },
 "nbformat": 4,
 "nbformat_minor": 2
}
