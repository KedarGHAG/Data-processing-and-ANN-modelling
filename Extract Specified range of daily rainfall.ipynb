{
 "cells": [
  {
   "cell_type": "markdown",
   "metadata": {},
   "source": [
    "# Extract Rainfall data for Specific period from downloaded zip folder"
   ]
  },
  {
   "cell_type": "markdown",
   "metadata": {},
   "source": [
    "#### Import necessary libraries"
   ]
  },
  {
   "cell_type": "code",
   "execution_count": 9,
   "metadata": {},
   "outputs": [],
   "source": [
    "import os\n",
    "import pandas as pd\n",
    "import datetime\n",
    "import re"
   ]
  },
  {
   "cell_type": "markdown",
   "metadata": {},
   "source": [
    "#### First, define variables and get data from user"
   ]
  },
  {
   "cell_type": "code",
   "execution_count": 10,
   "metadata": {},
   "outputs": [],
   "source": [
    "getfilepath='C:\\\\Data'\n",
    "os.chdir(getfilepath)\n",
    "getdRcsv='dR[EDEN_6]121203.829826.csv'\n",
    "firstDate='2016-01-01'\n",
    "lastDate='2018-01-08'"
   ]
  },
  {
   "cell_type": "markdown",
   "metadata": {},
   "source": [
    "#### regular expression to extract station name"
   ]
  },
  {
   "cell_type": "code",
   "execution_count": 11,
   "metadata": {},
   "outputs": [],
   "source": [
    "station=re.findall('^dR\\[(.*)]',getdRcsv)\n",
    "station=station[0]"
   ]
  },
  {
   "cell_type": "markdown",
   "metadata": {},
   "source": [
    "#### read csv"
   ]
  },
  {
   "cell_type": "code",
   "execution_count": 12,
   "metadata": {},
   "outputs": [],
   "source": [
    "df_dR=pd.read_csv(getdRcsv,\n",
    "                  skiprows=1,\n",
    "                  sep = ',',\n",
    "                  names=['Time','DailyRainfall(in)','DailyRainfall(mm)'])"
   ]
  },
  {
   "cell_type": "markdown",
   "metadata": {},
   "source": [
    "#### select all rows in DataFrame between given date range"
   ]
  },
  {
   "cell_type": "code",
   "execution_count": 13,
   "metadata": {},
   "outputs": [],
   "source": [
    "df_dR=df_dR[(df_dR['Time']>=firstDate)&(df_dR['Time']<=lastDate)]\n",
    "df_dR=df_dR.reset_index(drop=True)"
   ]
  },
  {
   "cell_type": "markdown",
   "metadata": {},
   "source": [
    "#### save values in csv file"
   ]
  },
  {
   "cell_type": "code",
   "execution_count": 14,
   "metadata": {},
   "outputs": [],
   "source": [
    "setfilepath='C:\\\\Data'\n",
    "os.chdir(setfilepath)\n",
    "now=datetime.datetime.now()\n",
    "timeStamp=str(now)[11:13]+str(now)[14:16]+str(now)[17:19]+str(now)[-7:]\n",
    "setdRcsv=\"dR[\"+station+\"][\"+firstDate+\" to \"+lastDate+\"]\"+timeStamp+\".csv\"\n",
    "df_dR.to_csv(setdRcsv,\n",
    "             index = False,\n",
    "             columns=['Time','DailyRainfall(in)','DailyRainfall(mm)'])"
   ]
  }
 ],
 "metadata": {
  "kernelspec": {
   "display_name": "Python 3",
   "language": "python",
   "name": "python3"
  },
  "language_info": {
   "codemirror_mode": {
    "name": "ipython",
    "version": 3
   },
   "file_extension": ".py",
   "mimetype": "text/x-python",
   "name": "python",
   "nbconvert_exporter": "python",
   "pygments_lexer": "ipython3",
   "version": "3.6.5"
  }
 },
 "nbformat": 4,
 "nbformat_minor": 2
}
