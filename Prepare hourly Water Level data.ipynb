{
 "cells": [
  {
   "cell_type": "markdown",
   "metadata": {},
   "source": [
    "####  Import necessary libraries"
   ]
  },
  {
   "cell_type": "code",
   "execution_count": 2,
   "metadata": {},
   "outputs": [],
   "source": [
    "import os\n",
    "import zipfile\n",
    "import pandas as pd\n",
    "import datetime\n",
    "import re"
   ]
  },
  {
   "cell_type": "code",
   "execution_count": 3,
   "metadata": {},
   "outputs": [],
   "source": [
    "zipfilename='Station-EDEN_6-WL1549656310.zip'"
   ]
  },
  {
   "cell_type": "code",
   "execution_count": null,
   "metadata": {},
   "outputs": [],
   "source": [
    "stnname1 = re.findall('^Station-(.*)-WL',zipfilename)\n",
    "wlzipnum1 = re.findall('-WL(.*).zip',zipfilename)\n",
    "stnname = stnname1[0]\n",
    "wlzipnum = wlzipnum1[0]"
   ]
  },
  {
   "cell_type": "code",
   "execution_count": null,
   "metadata": {},
   "outputs": [],
   "source": [
    "fpath=\"C:\\Data\\Full length dR&hWL data\"\n",
    "now=datetime.datetime.now()"
   ]
  },
  {
   "cell_type": "code",
   "execution_count": 4,
   "metadata": {},
   "outputs": [],
   "source": [
    "zippath_WL = fpath     ## file path for downloaded zip files\n",
    "extractedzip = fpath     ## file path to extract zipfiles\n",
    "extractdata=extractedzip +\"\\eve_data\"     ## file path for extracted files\n",
    "dwl_fpath=\"D:\\MScThesis Work\\#1DataforDDModels\"     ## file path for data collected from extracted zipfiles\n",
    "rcsvhWL=wlzipnum+\"_water_level.csv\"     ## ReadCSVHourlyWaterLevel[rcsvhWL]"
   ]
  },
  {
   "cell_type": "markdown",
   "metadata": {},
   "source": [
    "#### Extract data from zipped folder"
   ]
  },
  {
   "cell_type": "code",
   "execution_count": null,
   "metadata": {},
   "outputs": [],
   "source": [
    "os.chdir(zippath_WL)     # change directory where WL data is downloaded"
   ]
  },
  {
   "cell_type": "code",
   "execution_count": null,
   "metadata": {},
   "outputs": [],
   "source": [
    "zfwl = zipfile.ZipFile(zipfilename)     ## create file name as per the standard format (E.g. Station-W2-1544019002.zip)\n",
    "zfwl.namelist()"
   ]
  },
  {
   "cell_type": "code",
   "execution_count": null,
   "metadata": {},
   "outputs": [],
   "source": [
    "zfwl.extractall(extractedzip)     ## file path where extracted files need to be stored"
   ]
  },
  {
   "cell_type": "code",
   "execution_count": null,
   "metadata": {},
   "outputs": [],
   "source": [
    "os.chdir(extractdata)     ## Now, read extracted csv file"
   ]
  },
  {
   "cell_type": "code",
   "execution_count": null,
   "metadata": {},
   "outputs": [],
   "source": [
    "df_hWL = pd.read_csv(rcsvhWL, skiprows = 5, usecols = [0,1], header = None, \n",
    "                     names = ['Time', 'Daily WL(feet NAVD)'], \n",
    "                     sep = ',', index_col = False)     ## to load hourly water level csv file into the dataframe"
   ]
  },
  {
   "cell_type": "code",
   "execution_count": null,
   "metadata": {},
   "outputs": [],
   "source": [
    "df_hWL['Daily WL(meters NAVD)']=(df_hWL['Daily WL(feet NAVD)']*0.3048).round(2)"
   ]
  },
  {
   "cell_type": "code",
   "execution_count": null,
   "metadata": {},
   "outputs": [],
   "source": [
    "tframe_from= df_hWL.iloc[0]['Time'][:10]\n",
    "tframe_to=df_hWL.iloc[-1]['Time'][:10]\n",
    "tstamp=str(now)[11:13]+str(now)[14:16]+str(now)[17:19] + str(now)[-7:]     ## WriteCSVDailyWaterLevel[wcsvdWL]\n",
    "wcsvhWL=\"hWL[\"+stnname+\"][\"+tframe_from+\" to \"+tframe_to+\"]\"+tstamp+\".csv\""
   ]
  },
  {
   "cell_type": "code",
   "execution_count": null,
   "metadata": {},
   "outputs": [],
   "source": [
    "os.chdir(dwl_fpath)     ## to save values in new csv file"
   ]
  },
  {
   "cell_type": "code",
   "execution_count": null,
   "metadata": {},
   "outputs": [],
   "source": [
    "df_hWL.to_csv(wcsvhWL,index = False, columns = ['Time','Daily WL(feet NAVD)','Daily WL(meters NAVD)'])"
   ]
  }
 ],
 "metadata": {
  "kernelspec": {
   "display_name": "Python 3",
   "language": "python",
   "name": "python3"
  },
  "language_info": {
   "codemirror_mode": {
    "name": "ipython",
    "version": 3
   },
   "file_extension": ".py",
   "mimetype": "text/x-python",
   "name": "python",
   "nbconvert_exporter": "python",
   "pygments_lexer": "ipython3",
   "version": "3.6.5"
  }
 },
 "nbformat": 4,
 "nbformat_minor": 2
}
