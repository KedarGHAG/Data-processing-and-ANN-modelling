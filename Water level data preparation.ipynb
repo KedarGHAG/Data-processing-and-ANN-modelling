{
 "cells": [
  {
   "cell_type": "markdown",
   "metadata": {},
   "source": [
    "# Extract complete Hourly water level data from downloaded zip folder"
   ]
  },
  {
   "cell_type": "code",
   "execution_count": 1,
   "metadata": {},
   "outputs": [],
   "source": [
    "####  Import necessary libraries\n",
    "import os\n",
    "import zipfile\n",
    "import pandas as pd\n",
    "import datetime\n",
    "import re\n",
    "\n",
    "fpath='C:\\\\Data\\\\daily rainfall and hourly water level complete data'\n",
    "zipfilename='Station-2A300-WL1544195714.zip'\n",
    "\n",
    "stnname1 = re.findall('^Station-(.*)-WL',zipfilename)\n",
    "wlzipnum1 = re.findall('-WL(.*).zip',zipfilename)\n",
    "stnname = stnname1[0]\n",
    "wlzipnum = wlzipnum1[0]\n",
    "\n",
    "now=datetime.datetime.now()\n",
    "extractdata=fpath+'\\\\eve_data'               ## file path to get extracted files\n",
    "dwl_fpath='C:\\Data'                               ## file path for data collected from extracted zipfiles\n",
    "rcsvhWL=wlzipnum+'_water_level.csv'               ## ReadCSVHourlyWaterLevel[rcsvhWL]\n",
    "\n",
    "#### Extract data from zipped folder\n",
    "os.chdir(fpath)     # change directory where WL data is downloaded\n",
    "zfwl = zipfile.ZipFile(zipfilename)     ## create file name as per the standard format (E.g. Station-W2-1544019002.zip)\n",
    "zfwl.namelist()\n",
    "zfwl.extractall(fpath)     ## file path where extracted files need to be stored\n",
    "os.chdir(extractdata)     ## Now, read extracted csv file\n",
    "\n",
    "df_hWL = pd.read_csv(rcsvhWL, skiprows = 5, usecols = [0,1], header = None, \n",
    "                     names = ['Time', 'Daily WL(feet NAVD)'], \n",
    "                     sep = ',', index_col = False)                    ## to load hourly water level csv file into the dataframe\n",
    "\n",
    "df_hWL['Daily WL(meters NAVD)']=(df_hWL['Daily WL(feet NAVD)']*0.3048).round(2)\n",
    "\n",
    "tframe_from= df_hWL.iloc[0]['Time'][:10]\n",
    "tframe_to=df_hWL.iloc[-1]['Time'][:10]\n",
    "tstamp=str(now)[11:13]+str(now)[14:16]+str(now)[17:19] + str(now)[-7:]     ## WriteCSVDailyWaterLevel[wcsvdWL]\n",
    "wcsvhWL=\"hWL[\"+stnname+\"][\"+tframe_from+\" to \"+tframe_to+\"]\"+tstamp+\".csv\"\n",
    "\n",
    "os.chdir(dwl_fpath)     ## to save values in new csv file\n",
    "\n",
    "df_hWL.to_csv(wcsvhWL,index = False, columns = ['Time','Daily WL(feet NAVD)','Daily WL(meters NAVD)'])"
   ]
  },
  {
   "cell_type": "markdown",
   "metadata": {},
   "source": [
    "# Extract specified period of hourly water level data to prepare daily water level data"
   ]
  },
  {
   "cell_type": "code",
   "execution_count": null,
   "metadata": {},
   "outputs": [],
   "source": [
    "####  Import necessary libraries\n",
    "import os\n",
    "import pandas as pd\n",
    "import datetime\n",
    "import re\n",
    "\n",
    "#### file path for extracted csv file of hwl\n",
    "getfilepath='C:\\\\Data'\n",
    "os.chdir(getfilepath)\n",
    "getWLcsv='hWL[EDEN_6][2006-07-10 to 2019-02-07]233954.253826.csv'\n",
    "\n",
    "#### Specified hour in a day [spf_hrs]\n",
    "getTime='08:00:00'\n",
    "firstDate='2016-01-01'\n",
    "lastDate='2018-01-08'\n",
    "\n",
    "#### regular expression to extract station name\n",
    "station=re.findall('^hWL\\[(.*?)]',getWLcsv)\n",
    "station=station[0]\n",
    "dataset=re.findall('\\]\\[(.*?)]',getWLcsv)\n",
    "\n",
    "print('Overall length of data for Station '+station+' is:\\n'+dataset[0])\n",
    "df_hWL=pd.read_csv(getWLcsv,sep=',', names=['Time','DailyWL(ft NAVD)','DailyWL(m NAVD)'])\n",
    "print('Data starts from '+df_hWL.iloc[0]['Time'][:10]+\n",
    "      ' to '+df_hWL.iloc[-1]['Time'][:10])\n",
    "\n",
    "#### to pull values as per userdefined timeframe (i.e. DailyWL at specified time)\n",
    "df_dWL=df_hWL[(df_hWL['Time'].str.contains(getTime))]\n",
    "\n",
    "#### to select rows in a DataFrame between two values\n",
    "df_dWL=df_dWL[(df_dWL['Time']>firstDate)&(df_dWL['Time']<=lastDate)]\n",
    "df_dWL=df_dWL.reset_index(drop = True)\n",
    "\n",
    "#### to save values in new csv file\n",
    "#### Write CSV Daily Water Level [wcsvdWL]\n",
    "now=datetime.datetime.now()\n",
    "timeStamp=str(now)[11:13]+str(now)[14:16]+str(now)[17:19]+str(now)[-7:]\n",
    "setdWLfile=\"dWL[\"+station+\"][\"+firstDate+\" to \"+lastDate+\"]\"+timeStamp+\".csv\"\n",
    "setfilepath='C:\\\\Data'\n",
    "os.chdir(setfilepath)\n",
    "df_dWL.to_csv(setdWLfile,index=False,columns=['Time','DailyWL(ft NAVD)','DailyWL(m NAVD)'])"
   ]
  }
 ],
 "metadata": {
  "kernelspec": {
   "display_name": "Python 3",
   "language": "python",
   "name": "python3"
  },
  "language_info": {
   "codemirror_mode": {
    "name": "ipython",
    "version": 3
   },
   "file_extension": ".py",
   "mimetype": "text/x-python",
   "name": "python",
   "nbconvert_exporter": "python",
   "pygments_lexer": "ipython3",
   "version": "3.6.5"
  }
 },
 "nbformat": 4,
 "nbformat_minor": 2
}
